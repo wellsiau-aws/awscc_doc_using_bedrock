{
 "cells": [
  {
   "cell_type": "markdown",
   "id": "ba1621da",
   "metadata": {},
   "source": [
    "## Install libraries and dependencies"
   ]
  },
  {
   "cell_type": "code",
   "execution_count": null,
   "id": "e9e466c8",
   "metadata": {},
   "outputs": [],
   "source": [
    "!pip install langchain boto3 markdownify python-terraform"
   ]
  },
  {
   "cell_type": "code",
   "execution_count": null,
   "id": "492ebec9",
   "metadata": {},
   "outputs": [],
   "source": [
    "%%sh\n",
    "./install-terraform.sh"
   ]
  },
  {
   "cell_type": "markdown",
   "id": "c276b96c",
   "metadata": {},
   "source": [
    "## AWS Cloud Control (AWSCC) - Schema\n",
    "\n",
    "AWSCC schemas can be found on the [Terraform Registry](https://registry.terraform.io/providers/hashicorp/awscc/latest/docs/resources). The schemas includes all required and optional attributes, including basic info such as attribute type (string, boolean, list) and sometimes additional detail about how to use the attribute. Here is another [example](https://registry.terraform.io/providers/hashicorp/awscc/latest/docs/resources/cassandra_table#schema).\n",
    "\n",
    "AWSCC resources has specific naming convention: `awscc_<service-name>_<resource-name>`\n",
    "\n",
    "For example: `awscc_iam_role` or `awscc_apigateway_request_validator`. Later on, we'll compare this with the underlying CloudFormation resource name."
   ]
  },
  {
   "cell_type": "markdown",
   "id": "4b2b8f3f",
   "metadata": {},
   "source": [
    "### Retrieving AWSCC Resource\n",
    "\n",
    "Let's assume we want to retrieve specific AWSCC resource and generate an example from the same resource in CloudFormation documentation. First, we'll specify our target as `AWSCC_RESOURCE_NAME`. For this demonstration, we'll use use `awscc_iam_user`"
   ]
  },
  {
   "cell_type": "code",
   "execution_count": null,
   "id": "6b186027",
   "metadata": {},
   "outputs": [],
   "source": [
    "AWSCC_RESOURCE_NAME = \"awscc_iam_role\" \n",
    "\n",
    "print (\"Input AWSCC Resource name : {}\".format(AWSCC_RESOURCE_NAME))"
   ]
  },
  {
   "cell_type": "markdown",
   "id": "cef53052",
   "metadata": {},
   "source": [
    "The schema information from Terraform Registry comes directly from [AWSCC Provider repo](https://github.com/hashicorp/terraform-provider-awscc/blob/main/docs/resources/amplify_app.md). Since it's on Markdown format, we can download this file and parse it."
   ]
  },
  {
   "cell_type": "code",
   "execution_count": null,
   "id": "73e963f8",
   "metadata": {},
   "outputs": [],
   "source": [
    "AWSCC_REGISTRY_RESOURCE_NAME = AWSCC_RESOURCE_NAME.strip(\"awscc\").strip(\"_\")\n",
    "print (\"AWSCC Registry Resource Name: {}\".format(AWSCC_REGISTRY_RESOURCE_NAME))\n",
    "AWSCC_REGISTRY_RESOURCE_PATH = \"https://raw.githubusercontent.com/hashicorp/terraform-provider-awscc/main/docs/resources/{}.md\".format(AWSCC_REGISTRY_RESOURCE_NAME)\n",
    "print (\"Path in AWSCC repo: {}\".format(AWSCC_REGISTRY_RESOURCE_PATH))"
   ]
  },
  {
   "cell_type": "code",
   "execution_count": null,
   "id": "82de1ad6",
   "metadata": {},
   "outputs": [],
   "source": [
    "import urllib.request\n",
    "response=urllib.request.urlopen(AWSCC_REGISTRY_RESOURCE_PATH)\n",
    "AWSCC_RESOURCE_DOC=response.read().decode('utf-8')\n",
    "# print (AWSCC_RESOURCE_DOC)"
   ]
  },
  {
   "cell_type": "markdown",
   "id": "28f2965e",
   "metadata": {},
   "source": [
    "### Parsing the Markdown for AWSCC Resource\n",
    "\n",
    "This Markdown document contains a lot of information, however our point of interest is just the **Schema** section. We'll need to parse the HTML document and load only the **Schema** section as shown in the print out below.\n",
    "\n",
    "```\n",
    "# awscc_iam_role (Resource)\n",
    "\n",
    "Resource Type definition for AWS::IAM::Role\n",
    "...\n",
    "\n",
    "## Schema\n",
    "\n",
    "### Required\n",
    "\n",
    "- `assume_role_policy_document` (String) The trust policy that is associated with this role.\n",
    "\n",
    "### Optional\n",
    "\n",
    "- `description` (String) A description of the role that you provide.\n",
    "- `managed_policy_arns` (Set of String) A list of Amazon Resource Names (ARNs) of the IAM managed policies that you want to attach to the role.\n",
    "- `max_session_duration` (Number) The maximum session duration (in seconds) that you want to set for the specified role. If you do not specify a value for this setting, the default maximum of one hour is applied. This setting can have a value from 1 hour to 12 hours.\n",
    "- `path` (String) The path to the role.\n",
    "...\n",
    "\n",
    "```\n",
    "\n",
    "We could use [LangChain MarkdownHeaderTextSplitter](https://python.langchain.com/docs/modules/data_connection/document_transformers/text_splitters/markdown_header_metadata) as helper tool. We'll parse this markdown document, split the headers accordingly and load only the schema section."
   ]
  },
  {
   "cell_type": "code",
   "execution_count": null,
   "id": "bb0e1b53",
   "metadata": {},
   "outputs": [],
   "source": [
    "from langchain.text_splitter import MarkdownHeaderTextSplitter\n",
    "\n",
    "awscc_headers_to_split_on = [\n",
    "    (\"#\", \"Header 1\"), \n",
    "    (\"##\", \"Header 2\"), # we know that Schema is on header 2\n",
    "]\n",
    "awscc_markdown_splitter = MarkdownHeaderTextSplitter(headers_to_split_on=awscc_headers_to_split_on)\n",
    "awscc_md_header_splits = awscc_markdown_splitter.split_text(AWSCC_RESOURCE_DOC)\n",
    "\n",
    "for section in awscc_md_header_splits:\n",
    "    if \"Header 2\" in section.metadata and \"Schema\" in section.metadata[\"Header 2\"]:\n",
    "        AWSCC_RESOURCE_SCHEMA = section.page_content\n",
    "\n",
    "if AWSCC_RESOURCE_SCHEMA:\n",
    "    print(\"Schema for {} is found in the registry documentation\".format(AWSCC_RESOURCE_NAME))\n",
    "else:\n",
    "    print(\"Schema for {} is not found, check the resource name\".format(AWSCC_RESOURCE_NAME))"
   ]
  },
  {
   "cell_type": "markdown",
   "id": "42c391a4",
   "metadata": {},
   "source": [
    "## CloudFormation Resource - Example\n",
    "\n",
    "For the same resource name, the Cloudformation example can be found in the [AWS CloudFormation documentation page](https://docs.aws.amazon.com/AWSCloudFormation/latest/UserGuide/aws-resource-iam-role.html). Since this is a HTML document, we can also parse the **Examples** section and provide some inspiration for the LLM to use.\n",
    "\n",
    "Note, we don't care much about other section of this page such as Properties or Return Values. Why? because we already have this context from the AWSCC resource schema and the LLM model could use it as-is.\n"
   ]
  },
  {
   "cell_type": "markdown",
   "id": "a4cf1c47",
   "metadata": {},
   "source": [
    "### Retrieving CloudFormation Resource Example\n",
    "\n",
    "In the ideal world, we can just look up the same resource name such as `awscc_iam_role` or `awscc_apigateway_request_validator` in the CloudFormation documentation. However, both document has it's own format and we need to translate it.\n",
    "\n",
    "CloudFormation resources has specific naming convention: `aws-resource-<service-name>-<short-resource-name>`\n",
    "\n",
    "For example: \n",
    "\n",
    "* `awscc_iam_role` => `aws-resource-iam-role`\n",
    "* `awscc_apigateway_request_validator` => `aws-resource-apigateway-requestvalidator`\n",
    "\n",
    "Notice how the `request_validator` must be transformed to short name `requestvalidator`"
   ]
  },
  {
   "cell_type": "code",
   "execution_count": null,
   "id": "a7a58e28",
   "metadata": {},
   "outputs": [],
   "source": [
    "SERVICE_NAME = AWSCC_RESOURCE_NAME.split(\"_\")[1]\n",
    "SHORT_RESOURCE_NAME = AWSCC_RESOURCE_NAME.split(SERVICE_NAME)[1].split(\"_\")\n",
    "SHORT_RESOURCE_NAME = \"\".join(SHORT_RESOURCE_NAME)\n",
    "\n",
    "CFN_DOC_RESOURCE_NAME = \"aws-resource-{}-{}\".format(SERVICE_NAME, SHORT_RESOURCE_NAME)\n",
    "print (\"CloudFormation Doc File Name : {}\".format(CFN_DOC_RESOURCE_NAME))\n",
    "\n",
    "CFN_DOC_RESOURCE_PATH = \"https://docs.aws.amazon.com/AWSCloudFormation/latest/UserGuide/{}.html\".format(CFN_DOC_RESOURCE_NAME)\n",
    "print (\"Path in CloudFormation Doc: {}\".format(CFN_DOC_RESOURCE_PATH))"
   ]
  },
  {
   "cell_type": "markdown",
   "id": "765a90cf",
   "metadata": {},
   "source": [
    "### Parsing the HTML for CloudFormation Resource Example\n",
    "\n",
    "The HTML doc for CloudFormation resource example is quite simple, it contains headers called **Examples** with one ore more examples under `h3` header section.\n",
    "\n",
    "While most users prefer looking at examples in `yaml` format for readibility (arguably), it's actually better to use `json` format for LLM, since it's strictly typed.\n"
   ]
  },
  {
   "cell_type": "code",
   "execution_count": null,
   "id": "665506f9",
   "metadata": {},
   "outputs": [],
   "source": [
    "from bs4 import BeautifulSoup\n",
    "import requests\n",
    "\n",
    "page = BeautifulSoup(requests.get(CFN_DOC_RESOURCE_PATH).text, )\n",
    "print (\"Parsing : {}\".format(CFN_DOC_RESOURCE_PATH))\n",
    "\n",
    "CFN_DOC_EXAMPLES = []\n",
    "\n",
    "target = page.find('h2',string='Examples')\n",
    "\n",
    "if target:\n",
    "    for sib in target.find_next_siblings():\n",
    "        if sib.name == \"h3\": \n",
    "            # not all Examples section has sub-header 3 title\n",
    "            TARGET_H3_HEADER = \"\"\n",
    "            TARGET_H3_ID = \"\"\n",
    "            if sib.text.strip() != \"\":            \n",
    "                print (\"Example found for: {}\".format(sib.text.strip()))\n",
    "                TARGET_H3_HEADER = sib.text\n",
    "            else:\n",
    "                print (\"Example found for: {}\".format(sib.attrs['id']))\n",
    "                TARGET_H3_ID = sib.attrs['id']\n",
    "            \n",
    "            CFN_EXAMPLE = {}\n",
    "            EXAMPLE_JSON = \"\"\n",
    "            EXAMPLE_INTRO = \"\"\n",
    "            EXAMPLE_TITLE = sib.text.strip()\n",
    "            \n",
    "            # inconsistency in CloudFormation document for header \n",
    "            if TARGET_H3_HEADER != \"\": \n",
    "                #print (\"Using Header: {}\".format(TARGET_H3_HEADER))\n",
    "                example_target = page.find('h3',string=TARGET_H3_HEADER)\n",
    "            elif TARGET_H3_ID != \"\": \n",
    "                #print (\"Using ID: {}\".format(TARGET_H3_ID))\n",
    "                example_target = page.find('h3',attrs={'id':TARGET_H3_ID})\n",
    "            \n",
    "            for sib in example_target.find_next_siblings():\n",
    "\n",
    "                if sib.name == \"div\" and 'id' in sib.attrs:\n",
    "                    if sib.attrs['id'] != \"YAML\" or sib.attrs['id'] == \"JSON\":\n",
    "                        EXAMPLE_JSON = sib.text.strip()\n",
    "                if sib.name == \"p\" and len(sib.get_text(strip=True)) > 0:                \n",
    "                    EXAMPLE_INTRO = sib.text.strip()\n",
    "                    EXAMPLE_INTRO = \" \".join(EXAMPLE_INTRO.split()) # strip extra whitespace\n",
    "                if sib.name == \"h3\":\n",
    "                    break;\n",
    "                    \n",
    "            CFN_EXAMPLE = {\n",
    "                \"title\" : EXAMPLE_TITLE,\n",
    "                \"intro\" : EXAMPLE_INTRO,\n",
    "                \"json\" : EXAMPLE_JSON\n",
    "            }\n",
    "            CFN_DOC_EXAMPLES.append(CFN_EXAMPLE)\n",
    "            \n",
    "print (\"Number of CloudFormation resource example found : {}\".format(len(CFN_DOC_EXAMPLES)))"
   ]
  },
  {
   "cell_type": "markdown",
   "id": "61a5554c",
   "metadata": {},
   "source": [
    "We have succesfully locate the CloudFormation resource example. Next, we will create a prompt for the LLM that uses these examples as inspiration"
   ]
  },
  {
   "cell_type": "markdown",
   "id": "d4098ebe",
   "metadata": {},
   "source": [
    "## Using LLM \n",
    "\n",
    "First, let's initialize the LLM using Bedrock.\n",
    "\n",
    "We use [LangChain Bedrock Chat](https://python.langchain.com/docs/integrations/chat/bedrock) as helper to interface with Bedrock API using chat-like function."
   ]
  },
  {
   "cell_type": "code",
   "execution_count": null,
   "id": "1975f239",
   "metadata": {},
   "outputs": [],
   "source": [
    "import boto3\n",
    "boto3_bedrock = boto3.client('bedrock')\n",
    "boto3_bedrock_runtime = boto3.client('bedrock-runtime')"
   ]
  },
  {
   "cell_type": "code",
   "execution_count": null,
   "id": "b2b47d9d",
   "metadata": {},
   "outputs": [],
   "source": [
    "import langchain\n",
    "from langchain.llms import Bedrock\n",
    "from langchain.chat_models import BedrockChat\n",
    "from langchain.schema import HumanMessage\n",
    "from langchain.prompts import PromptTemplate\n",
    "\n",
    "chat = BedrockChat(\n",
    "    model_id=\"anthropic.claude-v2:1\", \n",
    "    model_kwargs={\"temperature\":0.1, \"max_tokens_to_sample\":4096},\n",
    "    client=boto3_bedrock_runtime\n",
    ")"
   ]
  },
  {
   "cell_type": "markdown",
   "id": "ea804f1b",
   "metadata": {},
   "source": [
    "### Defining the prompt \n",
    "\n",
    "At high-level, we want to prompt the LLM with the following: \n",
    "\n",
    "* The full schema of the AWSCC resource\n",
    "* Example taken from CloudFormation documentation\n",
    "* Some rules to follow\n",
    "* Generate example in AWSCC Terraform provider for the same AWSCC resource\n",
    "\n",
    "We use [LangChain Prompt template](https://python.langchain.com/docs/modules/model_io/prompts/prompt_templates/) as tool to assist this."
   ]
  },
  {
   "cell_type": "code",
   "execution_count": null,
   "id": "d62eddea",
   "metadata": {},
   "outputs": [],
   "source": [
    "prompt_template = PromptTemplate.from_template(\"\"\"\n",
    "You are Terraform expert. \n",
    "\n",
    "Only answer using the provided context. If you dont know the answer, simply say you dont know.\n",
    "\n",
    "Here is the schema for {awscc_resource_name} in the AWS Cloud Control Terraform provider :\n",
    "\n",
    "{awscc_resource_schema}\n",
    "\n",
    "Here is the example CloudFormation for your inspiration:\n",
    "\n",
    "{cfn_resource_example}\n",
    "\n",
    "Couple rules to follow:\n",
    "\n",
    "- The attribute `policy_document` is a map of string, please use json encode.\n",
    "- Change any reference to AWS account by using data source aws_caller_identity.\n",
    "- Use data source for any policy document.\n",
    "- Please don't use dynamic block.\n",
    "\n",
    "Your task is to convert the CloudFormation example to {awscc_resource_name}.\n",
    "\n",
    "You will provide the answer starting with text: \n",
    "### Start Example ### \n",
    "\n",
    "and ends it with text: \n",
    "### End Example ###. \n",
    "\n",
    "\"\"\")"
   ]
  },
  {
   "cell_type": "markdown",
   "id": "1d40bcbb",
   "metadata": {},
   "source": [
    "### Implementing the prompt\n",
    "\n",
    "Let's parse the template with the actual value and perform the inference to Bedrock, we'll store the results in a list"
   ]
  },
  {
   "cell_type": "code",
   "execution_count": null,
   "id": "3ccca097",
   "metadata": {},
   "outputs": [],
   "source": [
    "AWSCC_LLM_EXAMPLES = []\n",
    "for example in CFN_DOC_EXAMPLES:\n",
    "    print (\"Generating AWSCC example from Cfn example: {}\".format(example[\"intro\"]))\n",
    "    instruction = prompt_template.format(\n",
    "        awscc_resource_name=AWSCC_RESOURCE_NAME, \n",
    "        awscc_resource_schema=AWSCC_RESOURCE_SCHEMA,\n",
    "        cfn_resource_example= example[\"json\"],\n",
    "    )\n",
    "\n",
    "    messages = [\n",
    "        HumanMessage(\n",
    "            content=instruction\n",
    "        )\n",
    "    ]\n",
    "\n",
    "    AWSCC_EXAMPLE = {\n",
    "        \"title\" : example[\"title\"],\n",
    "        \"intro\" : example[\"intro\"],\n",
    "        \"result_latest\" : chat(messages).content.split(\"### Start Example ###\")[1].split(\"### End Example ###\")[0]\n",
    "    }\n",
    "    \n",
    "    AWSCC_LLM_EXAMPLES.append(AWSCC_EXAMPLE)"
   ]
  },
  {
   "cell_type": "markdown",
   "id": "67092135",
   "metadata": {},
   "source": [
    "### Validating Terraform\n",
    "\n",
    "It's important for us to generate valid Terraform configuration, which help accelerate the creation of the documentation. We can output the file from LLM and run `terraform validate` to compare."
   ]
  },
  {
   "cell_type": "code",
   "execution_count": null,
   "id": "dbae5f0b",
   "metadata": {},
   "outputs": [],
   "source": [
    "from python_terraform import Terraform\n",
    "from pathlib import Path\n",
    "\n",
    "for result in AWSCC_LLM_EXAMPLES:\n",
    "    print (\"Validating terraform file for : {}\".format(result[\"title\"]))\n",
    "    awscc_example_file_path = \"./terraform_output/{}/{}/main.tf\".format(AWSCC_RESOURCE_NAME, result[\"title\"])\n",
    "    awscc_example_info_file_path = \"./terraform_output/{}/{}/info.txt\".format(AWSCC_RESOURCE_NAME, result[\"title\"])\n",
    "    awscc_example_working_dir = \"./terraform_output/{}/{}\".format(AWSCC_RESOURCE_NAME, result[\"title\"])\n",
    "    \n",
    "    file = Path(awscc_example_file_path)\n",
    "    file.parent.mkdir(parents=True, exist_ok=True)\n",
    "\n",
    "    file1 = open(awscc_example_info_file_path, 'w')\n",
    "    file1.write(result[\"title\"])\n",
    "    file1.close()\n",
    "    \n",
    "    file1 = open(awscc_example_file_path, 'w')\n",
    "    file1.write(result[\"result_latest\"])\n",
    "    file1.close()\n",
    "      \n",
    "    tf = Terraform(working_dir=awscc_example_working_dir)\n",
    "    tf.fmt(diff=True)\n",
    "    tf.init()\n",
    "    return_code, stdout, stderr = tf.validate()\n",
    "    \n",
    "    if return_code == 0:\n",
    "        print (stdout)\n",
    "        result[\"validate\"] = True\n",
    "        result[\"validate-result\"] = stdout\n",
    "    else:\n",
    "        print (stderr)\n",
    "        result[\"validate\"] = False\n",
    "        result[\"validate-result\"] = stderr"
   ]
  },
  {
   "cell_type": "markdown",
   "id": "a2dd46ff",
   "metadata": {},
   "source": [
    "### Correcting the result\n",
    "\n",
    "LLM sometimes can make error, for example using exported attribute that doesn't exist.\n",
    "\n",
    "```\n",
    "  monitor_arn_list = [\n",
    "    awscc_ce_anomaly_monitor.custom.arn, <-- \"arn\" is not available\n",
    "    awscc_ce_anomaly_monitor.service.arn,\n",
    "  ]\n",
    "```\n",
    "\n",
    "or mistaken attribute type, for example `policies` should be declared as list.\n",
    "\n",
    "\n",
    "```\n",
    "resource \"awscc_iam_role\" \"root\" {\n",
    "  assume_role_policy_document = data.aws_iam_policy_document.assume_role_policy.json\n",
    "  path                        = \"/\"\n",
    "\n",
    "  policies {\n",
    "    policy_name = \"root\"\n",
    "    policy_document = data.aws_iam_policy_document.root_policy.json\n",
    "  }\n",
    "}\n",
    "```\n",
    "\n",
    "sometimes it forgot about Terraform syntax, for example when dealing with nested attribute:\n",
    "\n",
    "```\n",
    "  instance_configuration {  <-- missing \"=\" sign\n",
    "    cpu    = \"1 vCPU\"\n",
    "    memory = \"3 GB\" \n",
    "  }\n",
    "```\n",
    "\n",
    "on another case, it might uses resource in AWS standard provider while the same resource already existed in AWSCC.\n",
    "\n",
    "or in extreme example, the resource `awscc_iam_instance_profile` is not yet supported in AWSCC.\n",
    "\n",
    "```\n",
    "resource \"awscc_iam_instance_profile\" \"root\" {\n",
    "  path  = \"/\"\n",
    "  roles = [awscc_iam_role.root.id]\n",
    "}\n",
    "```\n",
    "\n",
    "We can run another prompt, asking the LLM to reflect on the previous output and made any corrections as needed.\n",
    "\n",
    "Note that certain validation is only possible by using live-data, i.e. validating if `awscc_iam_instance_profile` is exist."
   ]
  },
  {
   "cell_type": "markdown",
   "id": "9f56ae76",
   "metadata": {},
   "source": [
    "### Using terraform validate results\n",
    "\n",
    "We can tell the LLM to look at `terraform validate` results and reasoning how to fix the problem"
   ]
  },
  {
   "cell_type": "code",
   "execution_count": null,
   "id": "a5c4889c",
   "metadata": {},
   "outputs": [],
   "source": [
    "optimize_prompt_template = PromptTemplate.from_template(\"\"\"\n",
    "You are Terraform expert. Forget about the previous review, only examine the following information.\n",
    "\n",
    "Here is the schema for {awscc_resource_name} in the AWS Cloud Control Terraform provider, examine it carefully.\n",
    "\n",
    "{awscc_resource_schema}\n",
    "\n",
    "Here is the Terraform configuration that you need to analyze:\n",
    "\n",
    "{awscc_resource_example}\n",
    "\n",
    "Here is the error that you need to analyze:\n",
    "\n",
    "{awscc_resource_error}\n",
    "\n",
    "Please add fix for each error in the resources accordingly.\n",
    "\n",
    "You will provide the answer starting with text: \n",
    "### Start Example ### \n",
    "\n",
    "and ends it with text: \n",
    "### End Example ###. \n",
    "\n",
    "\"\"\")\n"
   ]
  },
  {
   "cell_type": "code",
   "execution_count": null,
   "id": "69a147bf",
   "metadata": {
    "scrolled": true
   },
   "outputs": [],
   "source": [
    "for result in AWSCC_LLM_EXAMPLES:\n",
    "    if result[\"validate\"] == False:\n",
    "        print (\"Re-running inference for : {}\".format(result[\"title\"]))\n",
    "        \n",
    "        instruction = optimize_prompt_template.format(\n",
    "            awscc_resource_name=AWSCC_RESOURCE_NAME, \n",
    "            awscc_resource_schema=AWSCC_RESOURCE_SCHEMA,\n",
    "            awscc_resource_example=result[\"result_latest\"],\n",
    "            awscc_resource_error=result[\"validate-result\"],\n",
    "        )\n",
    "      \n",
    "        messages = [\n",
    "            HumanMessage(\n",
    "                content=instruction\n",
    "            )\n",
    "        ]\n",
    "        result[\"result_previous\"] = result[\"result_latest\"]\n",
    "        result[\"result_latest\"] = chat(messages).content.split(\"### Start Example ###\")[1].split(\"### End Example ###\")[0]\n"
   ]
  },
  {
   "cell_type": "code",
   "execution_count": null,
   "id": "93c551ad",
   "metadata": {},
   "outputs": [],
   "source": [
    "for result in AWSCC_LLM_EXAMPLES:\n",
    "    if result[\"validate\"] == False:\n",
    "        print (\"Re-validating terraform file for : {}\".format(result[\"title\"]))\n",
    "        awscc_example_file_path = \"./terraform_output/{}/{}/main.tf\".format(AWSCC_RESOURCE_NAME, result[\"title\"])\n",
    "        awscc_example_old_file_path = \"./terraform_output/{}/{}/main.v1\".format(AWSCC_RESOURCE_NAME, result[\"title\"])\n",
    "        awscc_example_working_dir = \"./terraform_output/{}/{}\".format(AWSCC_RESOURCE_NAME, result[\"title\"])\n",
    "\n",
    "        file = Path(awscc_example_file_path)\n",
    "        file.parent.mkdir(parents=True, exist_ok=True)\n",
    "\n",
    "        file1 = open(awscc_example_file_path, 'w')\n",
    "        file1.write(result[\"result_latest\"])\n",
    "        file1.close()\n",
    "\n",
    "        file1 = open(awscc_example_old_file_path, 'w')\n",
    "        file1.write(result[\"result_previous\"])\n",
    "        file1.close()\n",
    "\n",
    "        tf = Terraform(working_dir=awscc_example_working_dir)\n",
    "        tf.fmt(diff=True)\n",
    "        tf.init()\n",
    "        return_code, stdout, stderr = tf.validate()\n",
    "\n",
    "        if return_code == 0:\n",
    "            print (stdout)\n",
    "            result[\"validate\"] = True\n",
    "            result[\"validate-result\"] = stdout\n",
    "        else:\n",
    "            print (stderr)\n",
    "            result[\"validate\"] = False\n",
    "            result[\"validate-result\"] = stderr"
   ]
  },
  {
   "cell_type": "markdown",
   "id": "adae37c2",
   "metadata": {},
   "source": [
    "### Re-running validation\n",
    "\n",
    "If we found another error from `terraform validate`, we could use the same process to fix it again"
   ]
  },
  {
   "cell_type": "code",
   "execution_count": null,
   "id": "24ab4475",
   "metadata": {
    "scrolled": true
   },
   "outputs": [],
   "source": [
    "for result in AWSCC_LLM_EXAMPLES:\n",
    "    if result[\"validate\"] == False:\n",
    "        print (\"Re-running inference for : {}\".format(result[\"title\"]))\n",
    "        \n",
    "        instruction = optimize_prompt_template.format(\n",
    "            awscc_resource_name=AWSCC_RESOURCE_NAME, \n",
    "            awscc_resource_schema=AWSCC_RESOURCE_SCHEMA,\n",
    "            awscc_resource_example=result[\"result_latest\"],\n",
    "            awscc_resource_error=result[\"validate-result\"],\n",
    "        )\n",
    "      \n",
    "        messages = [\n",
    "            HumanMessage(\n",
    "                content=instruction\n",
    "            )\n",
    "        ]\n",
    "        result[\"result_original\"] = result[\"result_previous\"] # we keep the original results for comparison\n",
    "        result[\"result_previous\"] = result[\"result_latest\"]\n",
    "        result[\"result_latest\"] = chat(messages).content.split(\"### Start Example ###\")[1].split(\"### End Example ###\")[0]\n"
   ]
  },
  {
   "cell_type": "code",
   "execution_count": null,
   "id": "6f718572",
   "metadata": {},
   "outputs": [],
   "source": [
    "for result in AWSCC_LLM_EXAMPLES:\n",
    "    if result[\"validate\"] == False:\n",
    "        print (\"Re-validating terraform file for : {}\".format(result[\"title\"]))\n",
    "        awscc_example_file_path = \"./terraform_output/{}/{}/main.tf\".format(AWSCC_RESOURCE_NAME, result[\"title\"])\n",
    "        awscc_example_old_file_path = \"./terraform_output/{}/{}/main.v2\".format(AWSCC_RESOURCE_NAME, result[\"title\"])\n",
    "        awscc_example_original_file_path = \"./terraform_output/{}/{}/main.v1\".format(AWSCC_RESOURCE_NAME, result[\"title\"])\n",
    "\n",
    "        awscc_example_working_dir = \"./terraform_output/{}/{}\".format(AWSCC_RESOURCE_NAME, result[\"title\"])\n",
    "\n",
    "        file = Path(awscc_example_file_path)\n",
    "        file.parent.mkdir(parents=True, exist_ok=True)\n",
    "\n",
    "        file1 = open(awscc_example_file_path, 'w')\n",
    "        file1.write(result[\"result_latest\"])\n",
    "        file1.close()\n",
    "\n",
    "        file1 = open(awscc_example_old_file_path, 'w')\n",
    "        file1.write(result[\"result_previous\"])\n",
    "        file1.close()\n",
    "\n",
    "        file1 = open(awscc_example_original_file_path, 'w')\n",
    "        file1.write(result[\"result_original\"])\n",
    "        file1.close()\n",
    "        \n",
    "        tf = Terraform(working_dir=awscc_example_working_dir)\n",
    "        tf.fmt(diff=True)\n",
    "        tf.init()\n",
    "        return_code, stdout, stderr = tf.validate()\n",
    "\n",
    "        if return_code == 0:\n",
    "            print (stdout)\n",
    "            result[\"validate\"] = True\n",
    "            result[\"validate-result\"] = stdout\n",
    "        else:\n",
    "            print (stderr)\n",
    "            result[\"validate\"] = False\n",
    "            result[\"validate-result\"] = stderr"
   ]
  }
 ],
 "metadata": {
  "kernelspec": {
   "display_name": "conda_python3",
   "language": "python",
   "name": "conda_python3"
  },
  "language_info": {
   "codemirror_mode": {
    "name": "ipython",
    "version": 3
   },
   "file_extension": ".py",
   "mimetype": "text/x-python",
   "name": "python",
   "nbconvert_exporter": "python",
   "pygments_lexer": "ipython3",
   "version": "3.10.13"
  }
 },
 "nbformat": 4,
 "nbformat_minor": 5
}
